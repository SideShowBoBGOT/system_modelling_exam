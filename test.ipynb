{
 "cells": [
  {
   "cell_type": "code",
   "execution_count": 29,
   "id": "7066ac1712311407",
   "metadata": {
    "ExecuteTime": {
     "end_time": "2024-12-09T21:33:33.905314Z",
     "start_time": "2024-12-09T21:33:33.898578Z"
    },
    "collapsed": false
   },
   "outputs": [
    {
     "name": "stdout",
     "output_type": "stream",
     "text": [
      "[[-1. -1.  0.  0.  0.  0.  0.  1.  1.]\n",
      " [ 1.  0. -1. -1.  0.  0.  0.  0.  0.]\n",
      " [ 0.  1.  1.  0. -1. -1.  0.  0.  0.]\n",
      " [ 0.  0.  0.  1.  0.  1. -1. -1.  0.]\n",
      " [ 0.  0.  0.  0.  1.  0.  1.  0. -1.]]\n"
     ]
    }
   ],
   "source": [
    "import numpy as np\n",
    "import scipy.linalg\n",
    "\n",
    "t = 5  # Transitions\n",
    "p = 9  # Places\n",
    "\n",
    "a_plus = np.zeros((t, p))\n",
    "a_minus = np.zeros((t, p))\n",
    "\n",
    "# Define input and output arcs\n",
    "input_arcs = np.array([[0, 0], [0, 1], [1, 2], [1, 3], [2, 4], [2, 5], [3, 6], [3, 7], [4, 8]])\n",
    "output_arcs = np.array([[0, 7], [0, 8], [1, 0], [2, 1], [2, 2], [3, 3], [3, 5], [4, 4], [4, 6]])\n",
    "\n",
    "a_minus[tuple(input_arcs.T)] = 1\n",
    "a_plus[tuple(output_arcs.T)] = 1\n",
    "\n",
    "a = a_plus - a_minus\n",
    "print(a)"
   ]
  },
  {
   "cell_type": "code",
   "execution_count": 30,
   "id": "5fafb080e3f9b73c",
   "metadata": {
    "ExecuteTime": {
     "end_time": "2024-12-09T21:33:48.402630Z",
     "start_time": "2024-12-09T21:33:48.396431Z"
    },
    "collapsed": false
   },
   "outputs": [
    {
     "name": "stdout",
     "output_type": "stream",
     "text": [
      "[[-0.4720571  -0.19992521  0.23282461  0.42399513  0.19117052]\n",
      " [ 0.57015452  0.29212166 -0.1359142   0.21654225  0.35245645]\n",
      " [-0.63641638  0.16818059 -0.21607766  0.01441214  0.2304898 ]\n",
      " [ 0.16435928 -0.3681058   0.44890227  0.40958299 -0.03931928]\n",
      " [ 0.04760906 -0.28374885 -0.42847863  0.08170189  0.51018052]\n",
      " [-0.11387092  0.74405109  0.07648676  0.1492525   0.07276573]\n",
      " [ 0.00095976  0.21989804  0.65128922 -0.1742888   0.17442198]\n",
      " [ 0.04952859  0.15604724 -0.12590019  0.73312429 -0.14097553]\n",
      " [ 0.04856883 -0.0638508   0.22281059 -0.09258691  0.6846025 ]]\n"
     ]
    }
   ],
   "source": [
    "# Vectors v (циклічність)\n",
    "t_invariants = scipy.linalg.null_space(a)\n",
    "print(t_invariants)"
   ]
  },
  {
   "cell_type": "code",
   "execution_count": 31,
   "id": "5cc208b746d86628",
   "metadata": {
    "ExecuteTime": {
     "end_time": "2024-12-09T21:34:07.087515Z",
     "start_time": "2024-12-09T21:34:07.082509Z"
    },
    "collapsed": false
   },
   "outputs": [
    {
     "name": "stdout",
     "output_type": "stream",
     "text": [
      "[[-0.4472136]\n",
      " [-0.4472136]\n",
      " [-0.4472136]\n",
      " [-0.4472136]\n",
      " [-0.4472136]]\n"
     ]
    }
   ],
   "source": [
    "# Vectors w (консервативність)\n",
    "s_invariants = scipy.linalg.null_space(a.T)\n",
    "print(s_invariants)"
   ]
  },
  {
   "cell_type": "code",
   "execution_count": null,
   "id": "4b9d9b2076e84baf",
   "metadata": {
    "collapsed": false
   },
   "outputs": [],
   "source": []
  }
 ],
 "metadata": {
  "kernelspec": {
   "display_name": "base",
   "language": "python",
   "name": "python3"
  },
  "language_info": {
   "codemirror_mode": {
    "name": "ipython",
    "version": 2
   },
   "file_extension": ".py",
   "mimetype": "text/x-python",
   "name": "python",
   "nbconvert_exporter": "python",
   "pygments_lexer": "ipython2",
   "version": "3.12.2"
  }
 },
 "nbformat": 4,
 "nbformat_minor": 5
}
